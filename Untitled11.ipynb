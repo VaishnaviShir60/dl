{
  "nbformat": 4,
  "nbformat_minor": 0,
  "metadata": {
    "colab": {
      "provenance": []
    },
    "kernelspec": {
      "name": "python3",
      "display_name": "Python 3"
    },
    "language_info": {
      "name": "python"
    }
  },
  "cells": [
    {
      "cell_type": "code",
      "execution_count": 96,
      "metadata": {
        "id": "i6VFeSdQFafC"
      },
      "outputs": [],
      "source": [
        "import numpy as np\n",
        "import matplotlib.pyplot as plt"
      ]
    },
    {
      "cell_type": "code",
      "source": [
        "from tensorflow.keras.datasets import mnist\n",
        "from tensorflow.keras.optimizers import SGD"
      ],
      "metadata": {
        "id": "zBFKfd4MFuUs"
      },
      "execution_count": 98,
      "outputs": []
    },
    {
      "cell_type": "code",
      "source": [
        "(x_train,y_train),(x_test,y_test)=mnist.load_data()"
      ],
      "metadata": {
        "id": "RScdlWFuGPFS"
      },
      "execution_count": 99,
      "outputs": []
    },
    {
      "cell_type": "code",
      "source": [
        "x_train.shape"
      ],
      "metadata": {
        "colab": {
          "base_uri": "https://localhost:8080/"
        },
        "id": "GQn7p5cSGPIh",
        "outputId": "0dd5453b-30fc-4ab0-ff28-a13a4f263665"
      },
      "execution_count": 100,
      "outputs": [
        {
          "output_type": "execute_result",
          "data": {
            "text/plain": [
              "(60000, 28, 28)"
            ]
          },
          "metadata": {},
          "execution_count": 100
        }
      ]
    },
    {
      "cell_type": "code",
      "source": [
        "x_test.shape"
      ],
      "metadata": {
        "colab": {
          "base_uri": "https://localhost:8080/"
        },
        "id": "UlJdWAScGPMC",
        "outputId": "1cacb328-9209-494b-a7f5-be1793aa51d0"
      },
      "execution_count": 101,
      "outputs": [
        {
          "output_type": "execute_result",
          "data": {
            "text/plain": [
              "(10000, 28, 28)"
            ]
          },
          "metadata": {},
          "execution_count": 101
        }
      ]
    },
    {
      "cell_type": "code",
      "source": [
        "y_train"
      ],
      "metadata": {
        "colab": {
          "base_uri": "https://localhost:8080/"
        },
        "id": "B2wRk8JkGl28",
        "outputId": "24979857-f8f8-469b-a1f3-fe31988f1a76"
      },
      "execution_count": 102,
      "outputs": [
        {
          "output_type": "execute_result",
          "data": {
            "text/plain": [
              "array([5, 0, 4, ..., 5, 6, 8], dtype=uint8)"
            ]
          },
          "metadata": {},
          "execution_count": 102
        }
      ]
    },
    {
      "cell_type": "code",
      "source": [
        "plt.subplot(221)\n",
        "plt.title(y_train[0])\n",
        "plt.imshow(x_train[0],cmap=plt.get_cmap('gray'))\n",
        "plt.subplot(222)\n",
        "plt.title(y_train[1])\n",
        "plt.imshow(x_train[1],cmap=plt.get_cmap('gray'))\n",
        "plt.subplot(223)\n",
        "plt.title(y_train[2])\n",
        "plt.imshow(x_train[2],cmap=plt.get_cmap('gray'))\n",
        "plt.subplot(224)\n",
        "plt.title(y_train[3])\n",
        "plt.imshow(x_train[3],cmap=plt.get_cmap('gray'))"
      ],
      "metadata": {
        "colab": {
          "base_uri": "https://localhost:8080/",
          "height": 470
        },
        "id": "d5sY1JhiGlzo",
        "outputId": "4563a9c0-8fa1-4477-af5d-bfa96d996858"
      },
      "execution_count": 103,
      "outputs": [
        {
          "output_type": "execute_result",
          "data": {
            "text/plain": [
              "<matplotlib.image.AxesImage at 0x78e178137400>"
            ]
          },
          "metadata": {},
          "execution_count": 103
        },
        {
          "output_type": "display_data",
          "data": {
            "text/plain": [
              "<Figure size 640x480 with 4 Axes>"
            ],
            "image/png": "[encoded data removed]"
          },
          "metadata": {}
        }
      ]
    },
    {
      "cell_type": "code",
      "source": [
        "num_pixels=x_train.shape[1] * x_train.shape[2]"
      ],
      "metadata": {
        "id": "r07V-W2dGlwJ"
      },
      "execution_count": 105,
      "outputs": []
    },
    {
      "cell_type": "code",
      "source": [
        "num_pixels"
      ],
      "metadata": {
        "colab": {
          "base_uri": "https://localhost:8080/"
        },
        "id": "m7s6vnBFGlp0",
        "outputId": "ca27fd6e-14db-474b-8d8d-adad2a2b5bb1"
      },
      "execution_count": 106,
      "outputs": [
        {
          "output_type": "execute_result",
          "data": {
            "text/plain": [
              "784"
            ]
          },
          "metadata": {},
          "execution_count": 106
        }
      ]
    },
    {
      "cell_type": "code",
      "source": [
        "x_train = x_train.reshape(x_train.shape[0],num_pixels).astype(float)\n",
        "x_test= x_test.reshape(x_test.shape[0],num_pixels).astype(float)"
      ],
      "metadata": {
        "id": "o2mGjkRtGlkf"
      },
      "execution_count": 107,
      "outputs": []
    },
    {
      "cell_type": "code",
      "source": [
        "x_train.shape"
      ],
      "metadata": {
        "colab": {
          "base_uri": "https://localhost:8080/"
        },
        "id": "UsnsYCBrH0gW",
        "outputId": "23e76d26-fe37-45fe-83c7-3f35002d3f3d"
      },
      "execution_count": 108,
      "outputs": [
        {
          "output_type": "execute_result",
          "data": {
            "text/plain": [
              "(60000, 784)"
            ]
          },
          "metadata": {},
          "execution_count": 108
        }
      ]
    },
    {
      "cell_type": "code",
      "source": [
        "x_test.shape"
      ],
      "metadata": {
        "colab": {
          "base_uri": "https://localhost:8080/"
        },
        "id": "pgqFFOqjGlbB",
        "outputId": "e766edee-97e8-482f-92a9-4823a78bafec"
      },
      "execution_count": 109,
      "outputs": [
        {
          "output_type": "execute_result",
          "data": {
            "text/plain": [
              "(10000, 784)"
            ]
          },
          "metadata": {},
          "execution_count": 109
        }
      ]
    },
    {
      "cell_type": "code",
      "source": [
        "x_train=x_train/255\n",
        "x_test=x_test/255"
      ],
      "metadata": {
        "id": "A3Oqn1CIH7AP"
      },
      "execution_count": 111,
      "outputs": []
    },
    {
      "cell_type": "code",
      "source": [
        "x_train"
      ],
      "metadata": {
        "colab": {
          "base_uri": "https://localhost:8080/"
        },
        "id": "Weohw1tZH7EJ",
        "outputId": "49b3c207-d62a-4ba6-8984-4ce6cda27e6c"
      },
      "execution_count": 112,
      "outputs": [
        {
          "output_type": "execute_result",
          "data": {
            "text/plain": [
              "array([[0., 0., 0., ..., 0., 0., 0.],\n",
              "       [0., 0., 0., ..., 0., 0., 0.],\n",
              "       [0., 0., 0., ..., 0., 0., 0.],\n",
              "       ...,\n",
              "       [0., 0., 0., ..., 0., 0., 0.],\n",
              "       [0., 0., 0., ..., 0., 0., 0.],\n",
              "       [0., 0., 0., ..., 0., 0., 0.]])"
            ]
          },
          "metadata": {},
          "execution_count": 112
        }
      ]
    },
    {
      "cell_type": "code",
      "source": [
        "from tensorflow.keras.utils import to_categorical\n",
        "from tensorflow.keras.layers import Dense\n",
        "from tensorflow.keras.models import Sequential"
      ],
      "metadata": {
        "id": "jawen8cNH7HT"
      },
      "execution_count": 113,
      "outputs": []
    },
    {
      "cell_type": "code",
      "source": [
        "y_train=to_categorical(y_train)\n",
        "y_test=to_categorical(y_test)"
      ],
      "metadata": {
        "id": "HP9jgm69H7KE"
      },
      "execution_count": 114,
      "outputs": []
    },
    {
      "cell_type": "code",
      "source": [
        "y_train.shape"
      ],
      "metadata": {
        "colab": {
          "base_uri": "https://localhost:8080/"
        },
        "id": "g7SyoiJmI2Df",
        "outputId": "f3e321bc-8b6d-4e7d-a166-54d70d1a5336"
      },
      "execution_count": 115,
      "outputs": [
        {
          "output_type": "execute_result",
          "data": {
            "text/plain": [
              "(60000, 10)"
            ]
          },
          "metadata": {},
          "execution_count": 115
        }
      ]
    },
    {
      "cell_type": "code",
      "source": [
        "def create_model():\n",
        "  model=Sequential()\n",
        "  model.add(Dense(num_pixels,input_dim=num_pixels,activation='relu'))\n",
        "  model.add(Dense(10,activation='softmax'))\n",
        "  model.compile(loss='categorical_crossentropy',optimizer=SGD(),metrics=['accuracy'])\n",
        "  return model"
      ],
      "metadata": {
        "id": "lBj1yvRlIc3v"
      },
      "execution_count": 117,
      "outputs": []
    },
    {
      "cell_type": "code",
      "source": [
        "model=create_model()"
      ],
      "metadata": {
        "id": "GZAfDbvBJ5Hb"
      },
      "execution_count": 118,
      "outputs": []
    },
    {
      "cell_type": "code",
      "source": [
        "model.fit(x_train,y_train,validation_data=(x_test,y_test),epochs=10, batch_size = 200)"
      ],
      "metadata": {
        "colab": {
          "base_uri": "https://localhost:8080/"
        },
        "id": "QyrkcPuAJ5AU",
        "outputId": "7f5073ea-0e14-4573-b561-d1d67bc056fd"
      },
      "execution_count": 119,
      "outputs": [
        {
          "output_type": "stream",
          "name": "stdout",
          "text": [
            "Epoch 1/10\n",
            "300/300 [==============================] - 7s 22ms/step - loss: 2.3003 - accuracy: 0.1142 - val_loss: 2.2994 - val_accuracy: 0.1135\n",
            "Epoch 2/10\n",
            "300/300 [==============================] - 5s 16ms/step - loss: 2.2993 - accuracy: 0.1124 - val_loss: 2.2989 - val_accuracy: 0.1135\n",
            "Epoch 3/10\n",
            "300/300 [==============================] - 6s 19ms/step - loss: 2.2990 - accuracy: 0.1124 - val_loss: 2.2987 - val_accuracy: 0.1135\n",
            "Epoch 4/10\n",
            "300/300 [==============================] - 5s 18ms/step - loss: 2.2988 - accuracy: 0.1124 - val_loss: 2.2985 - val_accuracy: 0.1135\n",
            "Epoch 5/10\n",
            "300/300 [==============================] - 5s 16ms/step - loss: 2.2987 - accuracy: 0.1124 - val_loss: 2.2984 - val_accuracy: 0.1135\n",
            "Epoch 6/10\n",
            "300/300 [==============================] - 6s 22ms/step - loss: 2.2986 - accuracy: 0.1124 - val_loss: 2.2983 - val_accuracy: 0.1135\n",
            "Epoch 7/10\n",
            "300/300 [==============================] - 4s 15ms/step - loss: 2.2985 - accuracy: 0.1124 - val_loss: 2.2982 - val_accuracy: 0.1135\n",
            "Epoch 8/10\n",
            "300/300 [==============================] - 5s 16ms/step - loss: 2.2985 - accuracy: 0.1124 - val_loss: 2.2982 - val_accuracy: 0.1135\n",
            "Epoch 9/10\n",
            "300/300 [==============================] - 7s 22ms/step - loss: 2.2984 - accuracy: 0.1124 - val_loss: 2.2981 - val_accuracy: 0.1135\n",
            "Epoch 10/10\n",
            "300/300 [==============================] - 5s 15ms/step - loss: 2.2983 - accuracy: 0.1124 - val_loss: 2.2980 - val_accuracy: 0.1135\n"
          ]
        },
        {
          "output_type": "execute_result",
          "data": {
            "text/plain": [
              "<keras.src.callbacks.History at 0x78e1707711b0>"
            ]
          },
          "metadata": {},
          "execution_count": 119
        }
      ]
    },
    {
      "cell_type": "code",
      "source": [
        "model.evaluate(x_test,y_test,batch_size=1)"
      ],
      "metadata": {
        "colab": {
          "base_uri": "https://localhost:8080/"
        },
        "id": "JlevT1hzK9fV",
        "outputId": "63ad79a1-a18e-4527-aa80-4e9fb2092c3c"
      },
      "execution_count": 120,
      "outputs": [
        {
          "output_type": "stream",
          "name": "stdout",
          "text": [
            "10000/10000 [==============================] - 22s 2ms/step - loss: 2.2980 - accuracy: 0.1135\n"
          ]
        },
        {
          "output_type": "execute_result",
          "data": {
            "text/plain": [
              "[2.298008680343628, 0.11349999904632568]"
            ]
          },
          "metadata": {},
          "execution_count": 120
        }
      ]
    },
    {
      "cell_type": "code",
      "source": [
        "model.summary()"
      ],
      "metadata": {
        "colab": {
          "base_uri": "https://localhost:8080/"
        },
        "id": "v5X9W-gVP9RP",
        "outputId": "537535c4-b930-4146-97a8-2c1be065359e"
      },
      "execution_count": 122,
      "outputs": [
        {
          "output_type": "stream",
          "name": "stdout",
          "text": [
            "Model: \"sequential_5\"\n",
            "_________________________________________________________________\n",
            " Layer (type)                Output Shape              Param #   \n",
            "=================================================================\n",
            " dense_10 (Dense)            (None, 784)               615440    \n",
            "                                                                 \n",
            " dense_11 (Dense)            (None, 10)                7850      \n",
            "                                                                 \n",
            "=================================================================\n",
            "Total params: 623290 (2.38 MB)\n",
            "Trainable params: 623290 (2.38 MB)\n",
            "Non-trainable params: 0 (0.00 Byte)\n",
            "_________________________________________________________________\n"
          ]
        }
      ]
    },
    {
      "cell_type": "code",
      "source": [
        "new=x_test[45]"
      ],
      "metadata": {
        "id": "3MILls8zK-iB"
      },
      "execution_count": 121,
      "outputs": []
    },
    {
      "cell_type": "code",
      "source": [
        "new=new.reshape(1,-1)"
      ],
      "metadata": {
        "id": "d2mrcb8PPwae"
      },
      "execution_count": 123,
      "outputs": []
    },
    {
      "cell_type": "code",
      "source": [
        "x_train.shape"
      ],
      "metadata": {
        "colab": {
          "base_uri": "https://localhost:8080/"
        },
        "id": "jhaHjJqfPwlc",
        "outputId": "84dce4a3-aa03-4fca-b927-9e9f6a2e2ebc"
      },
      "execution_count": 124,
      "outputs": [
        {
          "output_type": "execute_result",
          "data": {
            "text/plain": [
              "(60000, 784)"
            ]
          },
          "metadata": {},
          "execution_count": 124
        }
      ]
    },
    {
      "cell_type": "code",
      "source": [
        "new.shape"
      ],
      "metadata": {
        "colab": {
          "base_uri": "https://localhost:8080/"
        },
        "id": "mCIXfaqwPxKT",
        "outputId": "8f10839d-d5e7-45b4-bf87-10c07ce45679"
      },
      "execution_count": 125,
      "outputs": [
        {
          "output_type": "execute_result",
          "data": {
            "text/plain": [
              "(1, 784)"
            ]
          },
          "metadata": {},
          "execution_count": 125
        }
      ]
    },
    {
      "cell_type": "code",
      "source": [
        "np.argmax(model.predict(new))"
      ],
      "metadata": {
        "colab": {
          "base_uri": "https://localhost:8080/"
        },
        "id": "p3k7_7h7QMNw",
        "outputId": "dc06fadc-d685-4bfb-8b54-810792b0ffa7"
      },
      "execution_count": 126,
      "outputs": [
        {
          "output_type": "stream",
          "name": "stdout",
          "text": [
            "1/1 [==============================] - 0s 95ms/step\n"
          ]
        },
        {
          "output_type": "execute_result",
          "data": {
            "text/plain": [
              "1"
            ]
          },
          "metadata": {},
          "execution_count": 126
        }
      ]
    },
    {
      "cell_type": "code",
      "source": [
        "y_test[45]"
      ],
      "metadata": {
        "colab": {
          "base_uri": "https://localhost:8080/"
        },
        "id": "wLs5te4_QMaw",
        "outputId": "84cc87e6-45c2-4e7d-87d4-50095b45d55c"
      },
      "execution_count": 127,
      "outputs": [
        {
          "output_type": "execute_result",
          "data": {
            "text/plain": [
              "array([0., 0., 0., 0., 0., 1., 0., 0., 0., 0.], dtype=float32)"
            ]
          },
          "metadata": {},
          "execution_count": 127
        }
      ]
    },
    {
      "cell_type": "code",
      "source": [
        "history=model.fit(x_train,y_train,validation_data=(x_test,y_test),epochs=10,batch_size=200)"
      ],
      "metadata": {
        "colab": {
          "base_uri": "https://localhost:8080/"
        },
        "id": "aR8yleDQQcc1",
        "outputId": "e226b3ff-3627-49b4-ad3f-ee495aea0af2"
      },
      "execution_count": 130,
      "outputs": [
        {
          "output_type": "stream",
          "name": "stdout",
          "text": [
            "Epoch 1/10\n",
            "300/300 [==============================] - 6s 20ms/step - loss: 2.2982 - accuracy: 0.1124 - val_loss: 2.2979 - val_accuracy: 0.1135\n",
            "Epoch 2/10\n",
            "300/300 [==============================] - 5s 16ms/step - loss: 2.2981 - accuracy: 0.1124 - val_loss: 2.2978 - val_accuracy: 0.1135\n",
            "Epoch 3/10\n",
            "300/300 [==============================] - 6s 20ms/step - loss: 2.2981 - accuracy: 0.1124 - val_loss: 2.2978 - val_accuracy: 0.1135\n",
            "Epoch 4/10\n",
            "300/300 [==============================] - 5s 17ms/step - loss: 2.2980 - accuracy: 0.1124 - val_loss: 2.2977 - val_accuracy: 0.1135\n",
            "Epoch 5/10\n",
            "300/300 [==============================] - 5s 16ms/step - loss: 2.2979 - accuracy: 0.1124 - val_loss: 2.2976 - val_accuracy: 0.1135\n",
            "Epoch 6/10\n",
            "300/300 [==============================] - 7s 22ms/step - loss: 2.2978 - accuracy: 0.1124 - val_loss: 2.2975 - val_accuracy: 0.1135\n",
            "Epoch 7/10\n",
            "300/300 [==============================] - 4s 15ms/step - loss: 2.2977 - accuracy: 0.1124 - val_loss: 2.2974 - val_accuracy: 0.1135\n",
            "Epoch 8/10\n",
            "300/300 [==============================] - 5s 16ms/step - loss: 2.2976 - accuracy: 0.1124 - val_loss: 2.2973 - val_accuracy: 0.1135\n",
            "Epoch 9/10\n",
            "300/300 [==============================] - 9s 31ms/step - loss: 2.2976 - accuracy: 0.1124 - val_loss: 2.2972 - val_accuracy: 0.1135\n",
            "Epoch 10/10\n",
            "300/300 [==============================] - 5s 17ms/step - loss: 2.2975 - accuracy: 0.1124 - val_loss: 2.2972 - val_accuracy: 0.1135\n"
          ]
        }
      ]
    },
    {
      "cell_type": "code",
      "source": [
        "plt.title('model accuracy')\n",
        "plt.ylabel('accuracy')\n",
        "plt.xlabel('epoch')\n",
        "plt.plot(history.history['accuracy'])\n",
        "plt.plot(history.history['val_accuracy'])\n",
        "plt.legend(['train','val'])"
      ],
      "metadata": {
        "colab": {
          "base_uri": "https://localhost:8080/",
          "height": 490
        },
        "id": "SAXsmC5yQdKt",
        "outputId": "5af0f559-eaf7-4433-dc32-8be2e40d57b4"
      },
      "execution_count": 133,
      "outputs": [
        {
          "output_type": "execute_result",
          "data": {
            "text/plain": [
              "<matplotlib.legend.Legend at 0x78e178460430>"
            ]
          },
          "metadata": {},
          "execution_count": 133
        },
        {
          "output_type": "display_data",
          "data": {
            "text/plain": [
              "<Figure size 640x480 with 1 Axes>"
            ],
            "image/png": "[encoded data removed]"
          },
          "metadata": {}
        }
      ]
    }
  ]
}